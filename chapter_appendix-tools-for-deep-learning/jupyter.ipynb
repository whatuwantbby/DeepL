{
  "cells": [
    {
      "cell_type": "markdown",
      "source": [
        "# Artificial Neural Network"
      ],
      "metadata": {
        "id": "sFaIzsDhTbNA"
      },
      "id": "sFaIzsDhTbNA"
    },
    {
      "cell_type": "markdown",
      "source": [
        "## Importing Modules\n"
      ],
      "metadata": {
        "id": "Qr6niAPNTwig"
      },
      "id": "Qr6niAPNTwig"
    },
    {
      "cell_type": "code",
      "source": [
        "import pandas as pd\n",
        "import numpy as np\n",
        "import tensorflow as tf"
      ],
      "metadata": {
        "id": "wcTZMOg6Ppmh"
      },
      "id": "wcTZMOg6Ppmh",
      "execution_count": 4,
      "outputs": []
    },
    {
      "cell_type": "code",
      "source": [
        "tf.__version__"
      ],
      "metadata": {
        "id": "_oUXD_oNPwVj",
        "outputId": "1f3cd785-04e7-4cda-a358-baa3f423d408",
        "colab": {
          "base_uri": "https://localhost:8080/",
          "height": 36
        }
      },
      "id": "_oUXD_oNPwVj",
      "execution_count": 5,
      "outputs": [
        {
          "output_type": "execute_result",
          "data": {
            "text/plain": [
              "'2.18.0'"
            ],
            "application/vnd.google.colaboratory.intrinsic+json": {
              "type": "string"
            }
          },
          "metadata": {},
          "execution_count": 5
        }
      ]
    },
    {
      "cell_type": "markdown",
      "source": [
        "## Data Preproccessing"
      ],
      "metadata": {
        "id": "TiPvfhepT3Xd"
      },
      "id": "TiPvfhepT3Xd"
    },
    {
      "cell_type": "markdown",
      "source": [
        "### Importing Data Set"
      ],
      "metadata": {
        "id": "F3T6KOkPUdxn"
      },
      "id": "F3T6KOkPUdxn"
    },
    {
      "cell_type": "code",
      "source": [
        "dataset= pd.read_csv('Churn_Modelling.csv')\n",
        "x = dataset.iloc[:,3:-1].values\n",
        "y = dataset.iloc[:, -1].values"
      ],
      "metadata": {
        "id": "K0fhPl7pQAXy"
      },
      "id": "K0fhPl7pQAXy",
      "execution_count": 6,
      "outputs": []
    },
    {
      "cell_type": "code",
      "source": [
        "print(x)"
      ],
      "metadata": {
        "id": "FMzmf460UIoA",
        "outputId": "dc657aaa-a4ef-4187-c132-6578e8cb743f",
        "colab": {
          "base_uri": "https://localhost:8080/"
        }
      },
      "id": "FMzmf460UIoA",
      "execution_count": 7,
      "outputs": [
        {
          "output_type": "stream",
          "name": "stdout",
          "text": [
            "[[619 'France' 'Female' ... 1 1 101348.88]\n",
            " [608 'Spain' 'Female' ... 0 1 112542.58]\n",
            " [502 'France' 'Female' ... 1 0 113931.57]\n",
            " ...\n",
            " [709 'France' 'Female' ... 0 1 42085.58]\n",
            " [772 'Germany' 'Male' ... 1 0 92888.52]\n",
            " [792 'France' 'Female' ... 1 0 38190.78]]\n"
          ]
        }
      ]
    },
    {
      "cell_type": "code",
      "source": [
        "print(y)\n"
      ],
      "metadata": {
        "id": "0Dtu4F5dTGqT",
        "outputId": "bcc2101f-647f-498f-8354-08ae010c92ff",
        "colab": {
          "base_uri": "https://localhost:8080/"
        }
      },
      "id": "0Dtu4F5dTGqT",
      "execution_count": 8,
      "outputs": [
        {
          "output_type": "stream",
          "name": "stdout",
          "text": [
            "[1 0 1 ... 1 1 0]\n"
          ]
        }
      ]
    },
    {
      "cell_type": "markdown",
      "source": [
        "### Lable Encoding of Dataset"
      ],
      "metadata": {
        "id": "xmrS00t1Uj6C"
      },
      "id": "xmrS00t1Uj6C"
    },
    {
      "cell_type": "code",
      "source": [
        "from sklearn.preprocessing import LabelEncoder\n",
        "le = LabelEncoder()\n",
        "x[:,2] = le.fit_transform(x[:,2])"
      ],
      "metadata": {
        "id": "WnsRufDLUW4o"
      },
      "id": "WnsRufDLUW4o",
      "execution_count": 9,
      "outputs": []
    },
    {
      "cell_type": "code",
      "source": [
        "print(x)"
      ],
      "metadata": {
        "id": "9zEk0865WOpn",
        "outputId": "593440bb-24d7-4e99-8529-eb65d781a08d",
        "colab": {
          "base_uri": "https://localhost:8080/"
        }
      },
      "id": "9zEk0865WOpn",
      "execution_count": 10,
      "outputs": [
        {
          "output_type": "stream",
          "name": "stdout",
          "text": [
            "[[619 'France' 0 ... 1 1 101348.88]\n",
            " [608 'Spain' 0 ... 0 1 112542.58]\n",
            " [502 'France' 0 ... 1 0 113931.57]\n",
            " ...\n",
            " [709 'France' 0 ... 0 1 42085.58]\n",
            " [772 'Germany' 1 ... 1 0 92888.52]\n",
            " [792 'France' 0 ... 1 0 38190.78]]\n"
          ]
        }
      ]
    },
    {
      "cell_type": "code",
      "source": [
        "from sklearn.compose import ColumnTransformer\n",
        "from sklearn.preprocessing import OneHotEncoder\n",
        "ct = ColumnTransformer(transformers=[('encoder', OneHotEncoder(), [1])], remainder='passthrough')\n",
        "x= np.array(ct.fit_transform(x))"
      ],
      "metadata": {
        "id": "--Au_8dwWaFY"
      },
      "id": "--Au_8dwWaFY",
      "execution_count": 11,
      "outputs": []
    },
    {
      "cell_type": "code",
      "source": [
        "print(x)"
      ],
      "metadata": {
        "id": "EBQ0zZ7qYJlo",
        "outputId": "a0bb3549-0bd4-4495-b67d-86bdcbf0a26a",
        "colab": {
          "base_uri": "https://localhost:8080/"
        }
      },
      "id": "EBQ0zZ7qYJlo",
      "execution_count": 12,
      "outputs": [
        {
          "output_type": "stream",
          "name": "stdout",
          "text": [
            "[[1.0 0.0 0.0 ... 1 1 101348.88]\n",
            " [0.0 0.0 1.0 ... 0 1 112542.58]\n",
            " [1.0 0.0 0.0 ... 1 0 113931.57]\n",
            " ...\n",
            " [1.0 0.0 0.0 ... 0 1 42085.58]\n",
            " [0.0 1.0 0.0 ... 1 0 92888.52]\n",
            " [1.0 0.0 0.0 ... 1 0 38190.78]]\n"
          ]
        }
      ]
    },
    {
      "cell_type": "markdown",
      "source": [
        "### Spliting set into Training set and Test set"
      ],
      "metadata": {
        "id": "LHgPRUOwYt6y"
      },
      "id": "LHgPRUOwYt6y"
    },
    {
      "cell_type": "code",
      "source": [
        "from sklearn.model_selection import train_test_split\n",
        "x_train, x_test, y_train, y_test = train_test_split(x, y, test_size=0.2, random_state=0)"
      ],
      "metadata": {
        "id": "rHRTXSapYMNF"
      },
      "id": "rHRTXSapYMNF",
      "execution_count": 13,
      "outputs": []
    },
    {
      "cell_type": "markdown",
      "source": [
        "### Feature Scaling"
      ],
      "metadata": {
        "id": "l0QEVDJBZj8f"
      },
      "id": "l0QEVDJBZj8f"
    },
    {
      "cell_type": "code",
      "source": [
        "from sklearn.preprocessing import StandardScaler\n",
        "sc = StandardScaler()\n",
        "x_train = sc.fit_transform(x_train)\n",
        "x_test = sc.transform(x_test)"
      ],
      "metadata": {
        "id": "z4utbH3EZjtU"
      },
      "id": "z4utbH3EZjtU",
      "execution_count": 14,
      "outputs": []
    }
  ],
  "metadata": {
    "kernelspec": {
      "display_name": "Python 3",
      "name": "python3"
    },
    "language_info": {
      "name": "python"
    },
    "required_libs": [],
    "colab": {
      "provenance": []
    }
  },
  "nbformat": 4,
  "nbformat_minor": 5
}